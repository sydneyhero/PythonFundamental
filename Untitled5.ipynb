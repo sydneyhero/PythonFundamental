{
 "cells": [
  {
   "cell_type": "code",
   "execution_count": 4,
   "id": "50eaea10",
   "metadata": {},
   "outputs": [
    {
     "ename": "SyntaxError",
     "evalue": "invalid syntax (Temp/ipykernel_8092/3976642820.py, line 11)",
     "output_type": "error",
     "traceback": [
      "\u001b[1;36m  File \u001b[1;32m\"C:\\Users\\Admin\\AppData\\Local\\Temp/ipykernel_8092/3976642820.py\"\u001b[1;36m, line \u001b[1;32m11\u001b[0m\n\u001b[1;33m    If ((xC-xA)/(xB-xA))==((yC-yA)/(yB-yA)):\u001b[0m\n\u001b[1;37m                                            ^\u001b[0m\n\u001b[1;31mSyntaxError\u001b[0m\u001b[1;31m:\u001b[0m invalid syntax\n"
     ]
    }
   ],
   "source": [
    "\n"
   ]
  },
  {
   "cell_type": "code",
   "execution_count": null,
   "id": "fac59b7c",
   "metadata": {},
   "outputs": [],
   "source": [
    "a=int(input(\"canh thu 1:\"))\n",
    "b=int(input(\"canh thu 2:\"))\n",
    "c=int(input(\"canh thu 3:\"))\n",
    "\n",
    "if (a+b)>c and (b+c)>a and (a+c)>b:\n",
    "    print(\"3 canh tam giac va chu vi la {}\".format(a+b+c))\n",
    "else:\n",
    "    print(\"ko fai 3 canh tam giac\")\n",
    "    "
   ]
  },
  {
   "cell_type": "code",
   "execution_count": null,
   "id": "026c0f57",
   "metadata": {},
   "outputs": [],
   "source": []
  },
  {
   "cell_type": "code",
   "execution_count": null,
   "id": "c287d6ac",
   "metadata": {},
   "outputs": [],
   "source": []
  },
  {
   "cell_type": "code",
   "execution_count": null,
   "id": "02f7cbc4",
   "metadata": {},
   "outputs": [],
   "source": []
  }
 ],
 "metadata": {
  "kernelspec": {
   "display_name": "Python 3 (ipykernel)",
   "language": "python",
   "name": "python3"
  },
  "language_info": {
   "codemirror_mode": {
    "name": "ipython",
    "version": 3
   },
   "file_extension": ".py",
   "mimetype": "text/x-python",
   "name": "python",
   "nbconvert_exporter": "python",
   "pygments_lexer": "ipython3",
   "version": "3.9.1"
  }
 },
 "nbformat": 4,
 "nbformat_minor": 5
}
