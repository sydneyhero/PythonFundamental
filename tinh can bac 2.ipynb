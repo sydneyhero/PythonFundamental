{
 "cells": [
  {
   "cell_type": "code",
   "execution_count": 9,
   "id": "ccd7222f",
   "metadata": {},
   "outputs": [
    {
     "name": "stdout",
     "output_type": "stream",
     "text": [
      "a:1\n",
      "b:1\n",
      "c:-6\n",
      "25\n",
      "phuong trinh co 2 nghiem x1 la 1.5 va x2 la -3.5\n"
     ]
    }
   ],
   "source": [
    "a=int(input(\"a:\"))\n",
    "b=int(input(\"b:\"))\n",
    "c=int(input(\"c:\"))\n",
    "\n",
    "import math\n",
    "\n",
    "d=b**2-(4*a*c)\n",
    "print(d)\n",
    "if d == 0:\n",
    "    print(\"nghiem kep la {}\".format(-b/(2*a)))\n",
    "else:\n",
    "    if d < 0:\n",
    "        print(\"phuong trinh vo nghiem\")\n",
    "    else:\n",
    "        print(\"phuong trinh co 2 nghiem x1 la {} va x2 la {}\".format(-b+d**(1/2)/(2*a),-b-d**(1/2)/(2*a)))\n",
    "\n",
    "\n"
   ]
  },
  {
   "cell_type": "code",
   "execution_count": null,
   "id": "48f423cd",
   "metadata": {},
   "outputs": [],
   "source": [
    "\n",
    "        \n"
   ]
  },
  {
   "cell_type": "code",
   "execution_count": null,
   "id": "7e6fa81d",
   "metadata": {},
   "outputs": [],
   "source": []
  },
  {
   "cell_type": "code",
   "execution_count": null,
   "id": "6077f565",
   "metadata": {},
   "outputs": [],
   "source": []
  }
 ],
 "metadata": {
  "kernelspec": {
   "display_name": "Python 3 (ipykernel)",
   "language": "python",
   "name": "python3"
  },
  "language_info": {
   "codemirror_mode": {
    "name": "ipython",
    "version": 3
   },
   "file_extension": ".py",
   "mimetype": "text/x-python",
   "name": "python",
   "nbconvert_exporter": "python",
   "pygments_lexer": "ipython3",
   "version": "3.9.1"
  }
 },
 "nbformat": 4,
 "nbformat_minor": 5
}
