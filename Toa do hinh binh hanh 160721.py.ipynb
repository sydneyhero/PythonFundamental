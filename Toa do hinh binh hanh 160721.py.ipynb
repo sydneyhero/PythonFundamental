{
 "cells": [
  {
   "cell_type": "code",
   "execution_count": 1,
   "id": "992a05f8",
   "metadata": {},
   "outputs": [
    {
     "name": "stdout",
     "output_type": "stream",
     "text": [
      "x1 is:100\n",
      "y1 is:100\n",
      "x2 is:200\n",
      "y2 is:100\n",
      "x3 is:200\n",
      "y3 is:300\n",
      "100\n",
      "300\n",
      "100.0\n",
      "200.0\n",
      "600.0\n"
     ]
    }
   ],
   "source": [
    "import turtle\n",
    "import math\n",
    "\n",
    "t=turtle.Turtle()\n",
    "t.pencolor(\"red\")\n",
    "t.fillcolor(\"green\")\n",
    "x1=int(input('x1 is:'))\n",
    "y1=int(input('y1 is:'))\n",
    "x2=int(input('x2 is:'))\n",
    "y2=int(input('y2 is:'))\n",
    "x3=int(input('x3 is:'))\n",
    "y3=int(input('y3 is:'))\n",
    "\n",
    "x4=x1+x3-x2\n",
    "y4=y1+y3-y2\n",
    "print(x4)\n",
    "print(y4)\n",
    "\n",
    "AB=math.sqrt((x1-x2)**2+(y1-y2)**2)\n",
    "print(AB)\n",
    "BC=math.sqrt((x2-x3)**2+(y2-y3)**2)\n",
    "print(BC)\n",
    "\n",
    "cv=2*AB+2*BC\n",
    "print(cv)\n",
    "\n",
    "t.penup()\n",
    "t.begin_fill()\n",
    "t.goto(x1,y1)\n",
    "t.pendown()\n",
    "t.goto(x2,y2)\n",
    "t.goto(x3,y3)\n",
    "t.goto(x4,y4)\n",
    "t.goto(x1,y1)\n",
    "t.end_fill()\n",
    "\n",
    "turtle.done()"
   ]
  },
  {
   "cell_type": "code",
   "execution_count": 4,
   "id": "3f5f6e30",
   "metadata": {},
   "outputs": [
    {
     "name": "stdout",
     "output_type": "stream",
     "text": [
      "3.0\n",
      "3.0\n"
     ]
    }
   ],
   "source": [
    "import math\n",
    "a=9**(1/2)\n",
    "print(a)\n",
    "\n",
    "b=math.sqrt(9)\n",
    "print(b)"
   ]
  },
  {
   "cell_type": "code",
   "execution_count": null,
   "id": "a670b316",
   "metadata": {},
   "outputs": [],
   "source": []
  }
 ],
 "metadata": {
  "kernelspec": {
   "display_name": "Python 3 (ipykernel)",
   "language": "python",
   "name": "python3"
  },
  "language_info": {
   "codemirror_mode": {
    "name": "ipython",
    "version": 3
   },
   "file_extension": ".py",
   "mimetype": "text/x-python",
   "name": "python",
   "nbconvert_exporter": "python",
   "pygments_lexer": "ipython3",
   "version": "3.9.1"
  }
 },
 "nbformat": 4,
 "nbformat_minor": 5
}
