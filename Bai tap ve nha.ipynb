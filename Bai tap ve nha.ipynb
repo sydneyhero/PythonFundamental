{
 "cells": [
  {
   "cell_type": "code",
   "execution_count": 1,
   "id": "2adeb837",
   "metadata": {},
   "outputs": [
    {
     "name": "stdout",
     "output_type": "stream",
     "text": [
      "15\n",
      "3.75\n",
      "false\n",
      "true\n"
     ]
    }
   ],
   "source": [
    "a=5\n",
    "b=8\n",
    "c=-5\n",
    "d=7\n",
    "\n",
    "\n",
    "s=a+b+c+d\n",
    "print(s)\n",
    "\n",
    "m=(a+b+c+d)/4\n",
    "print(m)\n",
    "\n",
    "if(a>0 and b>0 and c>0 and d>0):\n",
    "    print(\"true\")\n",
    "                \n",
    "else:\n",
    "    print(\"false\")\n",
    "    \n",
    "\n",
    "    \n",
    "if(a%2==0 or b%2==0 or c%2==0 or d%2==0):\n",
    "    print(\"true\")\n",
    "else:\n",
    "    print(\"false\")\n",
    "\n"
   ]
  },
  {
   "cell_type": "code",
   "execution_count": null,
   "id": "8b877042",
   "metadata": {},
   "outputs": [],
   "source": []
  },
  {
   "cell_type": "code",
   "execution_count": 2,
   "id": "cbf507b5",
   "metadata": {},
   "outputs": [
    {
     "data": {
      "text/plain": [
       "4.0"
      ]
     },
     "execution_count": 2,
     "metadata": {},
     "output_type": "execute_result"
    }
   ],
   "source": [
    "100/25"
   ]
  },
  {
   "cell_type": "code",
   "execution_count": 3,
   "id": "c92c3290",
   "metadata": {},
   "outputs": [
    {
     "name": "stdout",
     "output_type": "stream",
     "text": [
      "hello world\n"
     ]
    }
   ],
   "source": [
    "print(\"hello world\", sep='|', end=\"\\n\")\n"
   ]
  },
  {
   "cell_type": "code",
   "execution_count": 4,
   "id": "dfa390f5",
   "metadata": {},
   "outputs": [
    {
     "name": "stdout",
     "output_type": "stream",
     "text": [
      "hello john!"
     ]
    }
   ],
   "source": [
    "text=\"hello\"\n",
    "name=\"john\"\n",
    "print(text, name, sep=\" \", end=\"!\")"
   ]
  },
  {
   "cell_type": "code",
   "execution_count": 5,
   "id": "3508cb24",
   "metadata": {},
   "outputs": [
    {
     "name": "stdout",
     "output_type": "stream",
     "text": [
      "chu vi cua hinh tron co ban kinh 100 la 628.3185307179587\n",
      "dien tich cua hinh tron co ban kinh 100 la 31415.926535897932\n"
     ]
    },
    {
     "data": {
      "text/plain": [
       "<function turtle.mainloop()>"
      ]
     },
     "execution_count": 5,
     "metadata": {},
     "output_type": "execute_result"
    }
   ],
   "source": [
    "import turtle\n",
    "import math\n",
    "r=100\n",
    "t=turtle.Turtle()\n",
    "t.pencolor('red')\n",
    "t.circle(r)\n",
    "\n",
    "c=2*math.pi*r\n",
    "s=math.pi*r*r\n",
    "\n",
    "print(\"chu vi cua hinh tron co ban kinh {0} la {1}\".format(r,c))\n",
    "print(\"dien tich cua hinh tron co ban kinh {} la {}\".format(r,s))\n",
    "\n",
    "\n",
    "turtle.done"
   ]
  }
 ],
 "metadata": {
  "kernelspec": {
   "display_name": "Python 3 (ipykernel)",
   "language": "python",
   "name": "python3"
  },
  "language_info": {
   "codemirror_mode": {
    "name": "ipython",
    "version": 3
   },
   "file_extension": ".py",
   "mimetype": "text/x-python",
   "name": "python",
   "nbconvert_exporter": "python",
   "pygments_lexer": "ipython3",
   "version": "3.9.1"
  }
 },
 "nbformat": 4,
 "nbformat_minor": 5
}
