{
 "cells": [
  {
   "cell_type": "code",
   "execution_count": 41,
   "id": "3f8ad026",
   "metadata": {},
   "outputs": [
    {
     "name": "stdout",
     "output_type": "stream",
     "text": [
      "nhap a:-2\n",
      "nhap b:-6\n",
      "nhap c:5\n",
      "-2x**2-6x+5\n"
     ]
    }
   ],
   "source": [
    "a=int(input(\"nhap a:\"))\n",
    "b=int(input(\"nhap b:\"))\n",
    "c=int(input(\"nhap c:\"))\n",
    "\n",
    "if a==-1:\n",
    "    s1=\"-x**2\"\n",
    "elif a==1:\n",
    "    s1=\"x**2\"\n",
    "elif a==0:\n",
    "    s1=\" \"\n",
    "elif a<0:\n",
    "    s1=\"{}x**2\".format(a)\n",
    "else: \n",
    "    s1=\"{}x**2\".format(a)\n",
    "\n",
    "if b==-1:\n",
    "    s2=\"-x\"\n",
    "elif b==1:\n",
    "    s2=\"+x\"\n",
    "elif b==0:\n",
    "    s2=\" \"\n",
    "elif b<0:\n",
    "    s2=\"{}x\".format(b)\n",
    "else: \n",
    "    s2=\"+{}x\".format(b)\n",
    "\n",
    "if c==-1:\n",
    "    s3=\"-1\"\n",
    "elif c==1:\n",
    "    s3=\"+1\"\n",
    "elif c==0:\n",
    "    s3=\" \"\n",
    "elif c<0:\n",
    "    s3=\"{}\".format(c)\n",
    "else: \n",
    "    s3=\"+{}\".format(c)\n",
    "\n",
    "print(\"{}{}{}\".format(s1,s2,s3))\n",
    "\n",
    "\n",
    "\n"
   ]
  },
  {
   "cell_type": "code",
   "execution_count": null,
   "id": "ef91c2f2",
   "metadata": {},
   "outputs": [],
   "source": []
  },
  {
   "cell_type": "code",
   "execution_count": null,
   "id": "4ffef16f",
   "metadata": {},
   "outputs": [],
   "source": []
  },
  {
   "cell_type": "code",
   "execution_count": null,
   "id": "f5c341f7",
   "metadata": {},
   "outputs": [],
   "source": []
  },
  {
   "cell_type": "code",
   "execution_count": null,
   "id": "ce8e68a0",
   "metadata": {},
   "outputs": [],
   "source": []
  }
 ],
 "metadata": {
  "kernelspec": {
   "display_name": "Python 3 (ipykernel)",
   "language": "python",
   "name": "python3"
  },
  "language_info": {
   "codemirror_mode": {
    "name": "ipython",
    "version": 3
   },
   "file_extension": ".py",
   "mimetype": "text/x-python",
   "name": "python",
   "nbconvert_exporter": "python",
   "pygments_lexer": "ipython3",
   "version": "3.9.1"
  }
 },
 "nbformat": 4,
 "nbformat_minor": 5
}
