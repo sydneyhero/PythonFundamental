{
 "cells": [
  {
   "cell_type": "code",
   "execution_count": 2,
   "id": "d95f9a7a",
   "metadata": {},
   "outputs": [
    {
     "name": "stdout",
     "output_type": "stream",
     "text": [
      "python programming language\n"
     ]
    }
   ],
   "source": [
    "text=\"python\"\n",
    "text02=\"programming language\"\n",
    "\n",
    "txt=text+\" \"+text02\n",
    "print(txt)"
   ]
  },
  {
   "cell_type": "code",
   "execution_count": 7,
   "id": "8b08095d",
   "metadata": {},
   "outputs": [
    {
     "name": "stdout",
     "output_type": "stream",
     "text": [
      "True\n",
      "False\n"
     ]
    }
   ],
   "source": [
    "a=100\n",
    "b=100\n",
    "c=80\n",
    "d=a==b and b>c\n",
    "print(d)\n",
    "print(not d)"
   ]
  },
  {
   "cell_type": "code",
   "execution_count": 15,
   "id": "97ce69b2",
   "metadata": {},
   "outputs": [
    {
     "name": "stdout",
     "output_type": "stream",
     "text": [
      "<class 'int'>\n",
      "<class 'float'>\n"
     ]
    }
   ],
   "source": [
    "a=10\n",
    "b=3.2\n",
    "c= (a)/b\n",
    "print(type(a))\n",
    "print(type(c))"
   ]
  },
  {
   "cell_type": "code",
   "execution_count": null,
   "id": "f4204410",
   "metadata": {},
   "outputs": [],
   "source": []
  },
  {
   "cell_type": "code",
   "execution_count": null,
   "id": "0661c6d5",
   "metadata": {},
   "outputs": [],
   "source": []
  }
 ],
 "metadata": {
  "kernelspec": {
   "display_name": "Python 3 (ipykernel)",
   "language": "python",
   "name": "python3"
  },
  "language_info": {
   "codemirror_mode": {
    "name": "ipython",
    "version": 3
   },
   "file_extension": ".py",
   "mimetype": "text/x-python",
   "name": "python",
   "nbconvert_exporter": "python",
   "pygments_lexer": "ipython3",
   "version": "3.9.1"
  }
 },
 "nbformat": 4,
 "nbformat_minor": 5
}
