{
 "cells": [
  {
   "cell_type": "code",
   "execution_count": 1,
   "id": "9f903ed4",
   "metadata": {},
   "outputs": [
    {
     "name": "stdout",
     "output_type": "stream",
     "text": [
      "nhap a:1\n",
      "nhap b:2\n",
      "nhap c:23\n",
      "ko fai\n"
     ]
    }
   ],
   "source": [
    "a=int(input(\"nhap a:\"))\n",
    "\n",
    "b=int(input(\"nhap b:\"))\n",
    "\n",
    "c=int(input(\"nhap c:\"))\n",
    "\n",
    "A=a**2\n",
    "B=b**2\n",
    "C=c**2\n",
    "\n",
    "if A+B == C or A+C==B or B+C==A:\n",
    "    print(\"3 so pythagore\")\n",
    "else:\n",
    "    print(\"ko fai\")\n",
    "\n"
   ]
  },
  {
   "cell_type": "code",
   "execution_count": 2,
   "id": "177819e0",
   "metadata": {},
   "outputs": [
    {
     "name": "stdout",
     "output_type": "stream",
     "text": [
      "2021-07-21 21:01:12.782328\n",
      "thu 4\n"
     ]
    }
   ],
   "source": [
    "from datetime import datetime\n",
    "\n",
    "print(datetime.today())\n",
    "a=(datetime.today().weekday())\n",
    "\n",
    "if a==0:\n",
    "    print(\"thu 2\")\n",
    "elif a==1:\n",
    "    print(\"thu3\")\n",
    "elif a==2:\n",
    "    print(\"thu 4\")\n",
    "elif a==3:\n",
    "    print(\"thu 5\")\n",
    "elif a==4:\n",
    "    print(\"thu 6\")\n",
    "elif a==5:\n",
    "    print(\"thu 7\")\n",
    "else:\n",
    "    print(\"chu nhat\")"
   ]
  },
  {
   "cell_type": "code",
   "execution_count": 5,
   "id": "e6a9a9a3",
   "metadata": {},
   "outputs": [
    {
     "name": "stdout",
     "output_type": "stream",
     "text": [
      "thang:2\n",
      "nam:700\n",
      "thang 2 co 28 ngay\n"
     ]
    }
   ],
   "source": [
    "a=int(input(\"thang:\"))\n",
    "b=int(input(\"nam:\"))\n",
    "c=b%4\n",
    "d=b%100\n",
    "e=b%400\n",
    "\n",
    "\n",
    "if c==0 and d!=0 or e==0 and a==2:\n",
    "    print(\"thang 2 co 29ngay\")\n",
    "elif a==2:\n",
    "    print(\"thang 2 co 28 ngay\")\n",
    "elif a==1 or a==3 or a==5 or a==7 or a==8 or a==10 or a==12:\n",
    "    print(\"31 ngay\")\n",
    "else:\n",
    "    print(\"30 ngay\")\n",
    "\n",
    "    \n",
    "    "
   ]
  },
  {
   "cell_type": "code",
   "execution_count": null,
   "id": "76a2202e",
   "metadata": {},
   "outputs": [],
   "source": []
  },
  {
   "cell_type": "code",
   "execution_count": null,
   "id": "3b797101",
   "metadata": {},
   "outputs": [],
   "source": []
  }
 ],
 "metadata": {
  "kernelspec": {
   "display_name": "Python 3 (ipykernel)",
   "language": "python",
   "name": "python3"
  },
  "language_info": {
   "codemirror_mode": {
    "name": "ipython",
    "version": 3
   },
   "file_extension": ".py",
   "mimetype": "text/x-python",
   "name": "python",
   "nbconvert_exporter": "python",
   "pygments_lexer": "ipython3",
   "version": "3.9.1"
  }
 },
 "nbformat": 4,
 "nbformat_minor": 5
}
