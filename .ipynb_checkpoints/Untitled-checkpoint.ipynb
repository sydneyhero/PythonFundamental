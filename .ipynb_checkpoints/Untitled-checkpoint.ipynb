{
 "cells": [
  {
   "cell_type": "code",
   "execution_count": 4,
   "id": "68a344df",
   "metadata": {},
   "outputs": [
    {
     "name": "stdout",
     "output_type": "stream",
     "text": [
      "khoa hoc lap trinh python\n",
      "bat dau 30/6\n",
      "giao vien: CAO TUAN ANH\n",
      "si so 14\n"
     ]
    }
   ],
   "source": [
    "print(\"khoa hoc lap trinh python\")\n",
    "print(\"bat dau 30/6\")\n",
    "print(\"giao vien: CAO TUAN ANH\")\n",
    "print(\"si so 14\")"
   ]
  },
  {
   "cell_type": "code",
   "execution_count": null,
   "id": "ca0e3d5f",
   "metadata": {},
   "outputs": [],
   "source": []
  }
 ],
 "metadata": {
  "kernelspec": {
   "display_name": "Python 3 (ipykernel)",
   "language": "python",
   "name": "python3"
  },
  "language_info": {
   "codemirror_mode": {
    "name": "ipython",
    "version": 3
   },
   "file_extension": ".py",
   "mimetype": "text/x-python",
   "name": "python",
   "nbconvert_exporter": "python",
   "pygments_lexer": "ipython3",
   "version": "3.9.1"
  }
 },
 "nbformat": 4,
 "nbformat_minor": 5
}
