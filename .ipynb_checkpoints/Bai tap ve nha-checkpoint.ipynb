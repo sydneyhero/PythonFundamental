{
 "cells": [
  {
   "cell_type": "code",
   "execution_count": 3,
   "id": "f62c7f0e",
   "metadata": {},
   "outputs": [
    {
     "name": "stdout",
     "output_type": "stream",
     "text": [
      "15\n",
      "3.75\n",
      "false\n",
      "true\n"
     ]
    }
   ],
   "source": [
    "a=5\n",
    "b=8\n",
    "c=-5\n",
    "d=7\n",
    "\n",
    "\n",
    "s=a+b+c+d\n",
    "print(s)\n",
    "\n",
    "m=(a+b+c+d)/4\n",
    "print(m)\n",
    "\n",
    "if(a>0 and b>0 and c>0 and d>0):\n",
    "    print(\"true\")\n",
    "                \n",
    "else:\n",
    "    print(\"false\")\n",
    "    \n",
    "\n",
    "    \n",
    "if(a%2==0 or b%2==0 or c%2==0 or d%2==0):\n",
    "    print(\"true\")\n",
    "else:\n",
    "    print(\"false\")\n",
    "\n"
   ]
  },
  {
   "cell_type": "code",
   "execution_count": null,
   "id": "4f52116d",
   "metadata": {},
   "outputs": [],
   "source": []
  },
  {
   "cell_type": "code",
   "execution_count": null,
   "id": "d4dc0ef0",
   "metadata": {},
   "outputs": [],
   "source": []
  },
  {
   "cell_type": "code",
   "execution_count": null,
   "id": "cf8ed6e2",
   "metadata": {},
   "outputs": [],
   "source": []
  }
 ],
 "metadata": {
  "kernelspec": {
   "display_name": "Python 3 (ipykernel)",
   "language": "python",
   "name": "python3"
  },
  "language_info": {
   "codemirror_mode": {
    "name": "ipython",
    "version": 3
   },
   "file_extension": ".py",
   "mimetype": "text/x-python",
   "name": "python",
   "nbconvert_exporter": "python",
   "pygments_lexer": "ipython3",
   "version": "3.9.1"
  }
 },
 "nbformat": 4,
 "nbformat_minor": 5
}
