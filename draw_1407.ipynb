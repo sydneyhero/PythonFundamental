{
 "cells": [
  {
   "cell_type": "code",
   "execution_count": 1,
   "id": "d8cafc4d",
   "metadata": {},
   "outputs": [
    {
     "name": "stdout",
     "output_type": "stream",
     "text": [
      "ban kinh hinh tron=100\n",
      "mau cua vien hinh tron=blue\n"
     ]
    }
   ],
   "source": [
    "import turtle\n",
    "\n",
    "t=turtle.Turtle()\n",
    "radius=int(input(\"ban kinh hinh tron=\"))\n",
    "color=input(\"mau cua vien hinh tron=\")\n",
    "\n",
    "t.pencolor(color)\n",
    "t.circle(radius)\n",
    "\n",
    "turtle.done()"
   ]
  },
  {
   "cell_type": "code",
   "execution_count": null,
   "id": "cdfaadf0",
   "metadata": {},
   "outputs": [],
   "source": []
  }
 ],
 "metadata": {
  "kernelspec": {
   "display_name": "Python 3 (ipykernel)",
   "language": "python",
   "name": "python3"
  },
  "language_info": {
   "codemirror_mode": {
    "name": "ipython",
    "version": 3
   },
   "file_extension": ".py",
   "mimetype": "text/x-python",
   "name": "python",
   "nbconvert_exporter": "python",
   "pygments_lexer": "ipython3",
   "version": "3.9.1"
  }
 },
 "nbformat": 4,
 "nbformat_minor": 5
}
