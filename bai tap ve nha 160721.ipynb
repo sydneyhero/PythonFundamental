{
 "cells": [
  {
   "cell_type": "code",
   "execution_count": 27,
   "id": "bc98401c",
   "metadata": {},
   "outputs": [
    {
     "name": "stdout",
     "output_type": "stream",
     "text": [
      "hello world\n",
      "ki thu thu 5 trong chuoi =d\n",
      "ki thu thu 1 den 3 trong chuoi = world\n",
      "ket qua hellopython\n",
      "True\n",
      "11\n",
      "2\n",
      "HELLO WORLD\n",
      "['hello', 'world']\n"
     ]
    }
   ],
   "source": [
    "my_string='hello world'\n",
    "print(my_string)\n",
    "\n",
    "print(\"ki thu thu 5 trong chuoi ={}\".format(my_string[10]))\n",
    "\n",
    "print(\"ki thu thu 1 den 3 trong chuoi ={}\".format(my_string[5:]))\n",
    "\n",
    "text1=\"hello\"\n",
    "text2=\"python\"\n",
    "text3=text1+text2\n",
    "print(\"ket qua\",text1+ text2)\n",
    "\n",
    "print(\"o\" in text1)\n",
    "print(len(my_string))\n",
    "print(my_string.count(\"o\"))\n",
    "print(my_string.upper())\n",
    "\n",
    "words=my_string.split(\" \")\n",
    "print(words)"
   ]
  },
  {
   "cell_type": "code",
   "execution_count": 91,
   "id": "1342cc7c",
   "metadata": {},
   "outputs": [
    {
     "name": "stdout",
     "output_type": "stream",
     "text": [
      "['tran', '', '', 'the', 'thai']\n",
      "tran \n",
      "TRAN \n"
     ]
    }
   ],
   "source": [
    "name=\"tran   the thai\"\n",
    "\n",
    "b=name.split(\" \")\n",
    "print(b)\n",
    "c=(name[0:5])\n",
    "print(c)\n",
    "d=print(c.upper())\n"
   ]
  },
  {
   "cell_type": "code",
   "execution_count": null,
   "id": "57edf8d0",
   "metadata": {},
   "outputs": [],
   "source": []
  },
  {
   "cell_type": "code",
   "execution_count": null,
   "id": "46659812",
   "metadata": {},
   "outputs": [],
   "source": []
  }
 ],
 "metadata": {
  "kernelspec": {
   "display_name": "Python 3 (ipykernel)",
   "language": "python",
   "name": "python3"
  },
  "language_info": {
   "codemirror_mode": {
    "name": "ipython",
    "version": 3
   },
   "file_extension": ".py",
   "mimetype": "text/x-python",
   "name": "python",
   "nbconvert_exporter": "python",
   "pygments_lexer": "ipython3",
   "version": "3.9.1"
  }
 },
 "nbformat": 4,
 "nbformat_minor": 5
}
