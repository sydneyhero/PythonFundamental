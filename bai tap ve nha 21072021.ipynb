{
 "cells": [
  {
   "cell_type": "code",
   "execution_count": 29,
   "id": "c8a650a6",
   "metadata": {},
   "outputs": [
    {
     "name": "stdout",
     "output_type": "stream",
     "text": [
      "nhap luong dien su dung:500\n",
      "so tien dien su dung la 1201700\n"
     ]
    }
   ],
   "source": [
    "a=int(input(\"nhap luong dien su dung:\"))\n",
    "if a <=50:\n",
    "    b=a*1678\n",
    "elif a>50 and a<=100:\n",
    "    c=50*1678+(a-50)*1734\n",
    "elif a>100 and a<=200:\n",
    "    d=50*1678+50*1734+(a-100)*2014\n",
    "elif a>200 and a<=300:\n",
    "    e=50*1678+50*1734+100*2014+(a-200)*2536\n",
    "elif a>300 and a<=400:\n",
    "    f=50*1678+50*1734+100*2014+100*2536+(a-300)*2834\n",
    "else:\n",
    "    g=50*1678+50*1734+100*2014+100*2536+100*2834+(a-400)*2927\n",
    "    \n",
    "if a<=50:\n",
    "    print(\"so tien dien su dung la {}\".format(b))\n",
    "elif a>50 and a<=100:\n",
    "    print(\"so tien dien su dung la {}\".format(c))\n",
    "elif a>100 and a<=200:\n",
    "    print(\"so tien dien su dung la {}\".format(d))\n",
    "elif a>200 and a<=300:\n",
    "    print(\"so tien dien su dung la {}\".format(e))\n",
    "elif a>300 and a<=400:\n",
    "    print(\"so tien dien su dung la {}\".format(f))\n",
    "else:\n",
    "    print(\"so tien dien su dung la {}\".format(g))\n",
    "    \n"
   ]
  },
  {
   "cell_type": "code",
   "execution_count": null,
   "id": "37baecf9",
   "metadata": {},
   "outputs": [],
   "source": []
  },
  {
   "cell_type": "code",
   "execution_count": null,
   "id": "c772152a",
   "metadata": {},
   "outputs": [],
   "source": []
  }
 ],
 "metadata": {
  "kernelspec": {
   "display_name": "Python 3 (ipykernel)",
   "language": "python",
   "name": "python3"
  },
  "language_info": {
   "codemirror_mode": {
    "name": "ipython",
    "version": 3
   },
   "file_extension": ".py",
   "mimetype": "text/x-python",
   "name": "python",
   "nbconvert_exporter": "python",
   "pygments_lexer": "ipython3",
   "version": "3.9.1"
  }
 },
 "nbformat": 4,
 "nbformat_minor": 5
}
