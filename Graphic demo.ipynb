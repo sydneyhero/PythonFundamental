{
 "cells": [
  {
   "cell_type": "code",
   "execution_count": 1,
   "id": "91ec2987",
   "metadata": {},
   "outputs": [
    {
     "name": "stdout",
     "output_type": "stream",
     "text": [
      "500\n",
      "17204.0\n"
     ]
    }
   ],
   "source": [
    "import turtle \n",
    "import math\n",
    "\n",
    "t=turtle.Turtle()\n",
    "\n",
    "t.pensize(1)\n",
    "t.fillcolor(\"red\")\n",
    "a=100\n",
    "b=72\n",
    "\n",
    "\n",
    "t.begin_fill()\n",
    "t.forward(a)\n",
    "t.left(b)\n",
    "t.forward(a)\n",
    "t.left(b)\n",
    "t.forward(a)\n",
    "t.left(b)\n",
    "t.forward(a)\n",
    "t.left(b)\n",
    "t.forward(a)\n",
    "t.end_fill()\n",
    "\n",
    "p=5*(a)\n",
    "print(p)\n",
    "\n",
    "P=1.7204\n",
    "s=a*a*P\n",
    "\n",
    "print(s)\n",
    "\n",
    "\n",
    "turtle.done()"
   ]
  },
  {
   "cell_type": "markdown",
   "id": "5a745d40",
   "metadata": {},
   "source": [
    " "
   ]
  },
  {
   "cell_type": "code",
   "execution_count": null,
   "id": "3b08402c",
   "metadata": {},
   "outputs": [],
   "source": []
  },
  {
   "cell_type": "code",
   "execution_count": null,
   "id": "9f9eecd0",
   "metadata": {},
   "outputs": [],
   "source": []
  }
 ],
 "metadata": {
  "kernelspec": {
   "display_name": "Python 3 (ipykernel)",
   "language": "python",
   "name": "python3"
  },
  "language_info": {
   "codemirror_mode": {
    "name": "ipython",
    "version": 3
   },
   "file_extension": ".py",
   "mimetype": "text/x-python",
   "name": "python",
   "nbconvert_exporter": "python",
   "pygments_lexer": "ipython3",
   "version": "3.9.1"
  }
 },
 "nbformat": 4,
 "nbformat_minor": 5
}
